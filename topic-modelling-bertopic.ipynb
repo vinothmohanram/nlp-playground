{
 "cells": [
  {
   "cell_type": "markdown",
   "id": "bfae55c2-645e-4c93-a4d8-d47a4ffe01cd",
   "metadata": {},
   "source": [
    "# BERTopic Example"
   ]
  },
  {
   "cell_type": "markdown",
   "id": "8bc71530-df4b-481a-bc7c-5ea578d962a7",
   "metadata": {},
   "source": [
    "This notebook contains an applied example of using BERTopic for topic modelling. Code is taken from the [BERTopic site](https://maartengr.github.io/BERTopic/getting_started/quickstart/quickstart.html).\n",
    "\n",
    "Please note, topic models for the full dataset aren't generated here, due to extended runtime due to running on CPU. Therefore, the topics generated aren't very good as they are based only on a small subset of the data. \n",
    "\n",
    "To run the same code in Google colabs on GPU (faster runtime), use [this](https://colab.research.google.com/drive/1FieRA9fLdkQEGDIMYl0I3MCjSUKVF8C-?usp=sharing#scrollTo=SNa-KtKDRnus)."
   ]
  },
  {
   "cell_type": "markdown",
   "id": "98531b5f-bbf5-4eb6-9bb3-235734d91b57",
   "metadata": {},
   "source": [
    "---\n",
    "**Load packages:**"
   ]
  },
  {
   "cell_type": "code",
   "execution_count": null,
   "id": "0452792f-9315-4b0d-a56a-aa206c2ee937",
   "metadata": {},
   "outputs": [],
   "source": [
    "from bertopic import BERTopic\n",
    "from sklearn.datasets import fetch_20newsgroups"
   ]
  },
  {
   "cell_type": "markdown",
   "id": "06642be6-40f3-458f-9f47-e62f0e371687",
   "metadata": {},
   "source": [
    "------"
   ]
  },
  {
   "cell_type": "markdown",
   "id": "aa07bb87-35f8-4801-b2bd-ddc31fa5996e",
   "metadata": {},
   "source": [
    "The 20 newsgroups dataset comprises around 18000 newsgroups posts on 20 topics split in two subsets: one for training (or development) and the other one for testing (or for performance evaluation). The split between the train and test set is based upon a messages posted before and after a specific date. More information can be found here: https://scikit-learn.org/0.19/datasets/twenty_newsgroups.html\n",
    "\n",
    "**Fetch data:**"
   ]
  },
  {
   "cell_type": "code",
   "execution_count": null,
   "id": "88175b32-5a69-4f16-bd56-957fe7684c9b",
   "metadata": {},
   "outputs": [],
   "source": [
    "fetch_20newsgroups(subset='all',  remove=('headers', 'footers', 'quotes')).keys()"
   ]
  },
  {
   "cell_type": "code",
   "execution_count": null,
   "id": "a3b0d1be-45c4-4785-8277-ff0070e0c4a5",
   "metadata": {},
   "outputs": [],
   "source": [
    "fetch_20newsgroups(subset='all',  remove=('headers', 'footers', 'quotes'))['target_names']"
   ]
  },
  {
   "cell_type": "code",
   "execution_count": null,
   "id": "a35724c6-7522-4f26-95fb-7955b5678485",
   "metadata": {},
   "outputs": [],
   "source": [
    "docs = fetch_20newsgroups(subset='all',  remove=('headers', 'footers', 'quotes'))['data']"
   ]
  },
  {
   "cell_type": "code",
   "execution_count": null,
   "id": "7d9f1b35-58e0-441a-bdd9-643420cdeb89",
   "metadata": {},
   "outputs": [],
   "source": [
    "docs[0]"
   ]
  },
  {
   "cell_type": "code",
   "execution_count": null,
   "id": "48670762-171b-4922-b643-f3cbb794881f",
   "metadata": {},
   "outputs": [],
   "source": [
    "docs[0:3]"
   ]
  },
  {
   "cell_type": "code",
   "execution_count": null,
   "id": "f77c90a9-e67f-4a72-893d-1ad2f5536a01",
   "metadata": {},
   "outputs": [],
   "source": [
    "len(docs)"
   ]
  },
  {
   "cell_type": "markdown",
   "id": "a8ce2e66-0468-4d8c-a442-72e614b22dfc",
   "metadata": {},
   "source": [
    "------"
   ]
  },
  {
   "cell_type": "markdown",
   "id": "6eebe7bb-f852-4b16-aa0f-f8ed7a822660",
   "metadata": {},
   "source": [
    "### 1. Model training: Subset dataset across all categories\n",
    "\n",
    "**Set up model:**\n",
    "\n",
    "Note - this takes too long to run on AP due to no GPU being available. We'll just take a subsection of docs to get it to run faster to demo here.\n",
    "\n",
    "With 100 docs takes about 25s to run.\n",
    "With 500 docs takes about 2m30s to run.\n",
    "\n",
    "There are 18846 docs in total in dataset. Approx 1h30 for whole thing."
   ]
  },
  {
   "cell_type": "code",
   "execution_count": null,
   "id": "d23ca34e-5d0e-44d1-a2d3-ed306429e59f",
   "metadata": {},
   "outputs": [],
   "source": [
    "model_docs = docs[0:500]"
   ]
  },
  {
   "cell_type": "code",
   "execution_count": null,
   "id": "183fe3a3-010e-40a3-9fe9-7e9de7ddbd5d",
   "metadata": {},
   "outputs": [],
   "source": [
    "# Set random seed\n",
    "from umap import UMAP\n",
    "umap_model = UMAP(random_state=42)"
   ]
  },
  {
   "cell_type": "code",
   "execution_count": null,
   "id": "96f85197-2bad-44fc-a465-805a3a957582",
   "metadata": {},
   "outputs": [],
   "source": [
    "topic_model = BERTopic(umap_model=umap_model, verbose = True)\n",
    "topics, probs = topic_model.fit_transform(model_docs)"
   ]
  },
  {
   "cell_type": "code",
   "execution_count": null,
   "id": "84e35526-a7bf-41cb-a836-6fdb81622873",
   "metadata": {},
   "outputs": [],
   "source": [
    "# Save model\n",
    "# topic_model.save(\"models/my_model\")"
   ]
  },
  {
   "cell_type": "code",
   "execution_count": null,
   "id": "eee9e519-c530-4d89-bb67-a7003623bffb",
   "metadata": {
    "tags": []
   },
   "outputs": [],
   "source": [
    "# Load model\n",
    "#topic_model = BERTopic.load(\"models/my_model\")"
   ]
  },
  {
   "cell_type": "markdown",
   "id": "98d00711-1e4c-4717-9ba7-a6be36cd7797",
   "metadata": {},
   "source": [
    "After generating topics, we can access the frequent topics that were generated:"
   ]
  },
  {
   "cell_type": "code",
   "execution_count": null,
   "id": "ba644353-a803-46c0-bc88-a097adf093cd",
   "metadata": {},
   "outputs": [],
   "source": [
    "topic_model.get_topic_info()"
   ]
  },
  {
   "cell_type": "code",
   "execution_count": null,
   "id": "9c179652-28ba-477f-9a37-f9c82dbdad6a",
   "metadata": {},
   "outputs": [],
   "source": [
    "topic_model.get_topic(0)"
   ]
  },
  {
   "cell_type": "code",
   "execution_count": null,
   "id": "f513e2a5-6a33-419d-9b6a-895c5abecccd",
   "metadata": {},
   "outputs": [],
   "source": [
    "topic_model.get_document_info(model_docs)"
   ]
  },
  {
   "cell_type": "code",
   "execution_count": null,
   "id": "0150955e-8670-4723-a509-95a341b48629",
   "metadata": {
    "tags": []
   },
   "outputs": [],
   "source": [
    "# Note: This doesn't work because we're using too few documents\n",
    "#fig1 = topic_model.visualize_topics()\n",
    "#fig1.write_html(\"./viz/topic_model.html\")"
   ]
  },
  {
   "cell_type": "markdown",
   "id": "d114d015-48db-4641-b046-daa9929febf5",
   "metadata": {},
   "source": [
    "------\n",
    "\n",
    "### 2. Model training: Subset dataset by selecting a number of categories\n",
    "To naturally reduce our number of documents and topics, we can reduce to X categories of documents (obviously can only do this for the example as it's labelled data)."
   ]
  },
  {
   "cell_type": "code",
   "execution_count": null,
   "id": "007ceda8-a28c-449d-bfb7-a45b45653cc3",
   "metadata": {},
   "outputs": [],
   "source": [
    "import pandas as pd"
   ]
  },
  {
   "cell_type": "code",
   "execution_count": null,
   "id": "ec89190e-5f43-4970-8ca6-0f5f607eb8cf",
   "metadata": {},
   "outputs": [],
   "source": [
    "newsgroups = fetch_20newsgroups(subset='all',  remove=('headers', 'footers', 'quotes'))\n",
    "categories = newsgroups.target_names\n",
    "target_num = newsgroups.target\n",
    "target = [categories[x] for x in target_num]"
   ]
  },
  {
   "cell_type": "code",
   "execution_count": null,
   "id": "12e1132f-f7b6-489d-88be-db46fb33eac1",
   "metadata": {},
   "outputs": [],
   "source": [
    "df = pd.DataFrame()\n",
    "df['text'] = newsgroups.data\n",
    "df['target'] = target\n",
    "df.head()"
   ]
  },
  {
   "cell_type": "markdown",
   "id": "70f84be5-26c2-46ef-b573-a9bbc107f403",
   "metadata": {},
   "source": [
    "Filter the dataset down into just 1 subcategory per category for our example:"
   ]
  },
  {
   "cell_type": "code",
   "execution_count": null,
   "id": "2a963d2c-a1b5-48df-929f-9f0a4dde506a",
   "metadata": {},
   "outputs": [],
   "source": [
    "df['category'] = df.target.str.split('.').str[0]"
   ]
  },
  {
   "cell_type": "code",
   "execution_count": null,
   "id": "4dae9e49-8e68-401f-a0f0-c9306bb80873",
   "metadata": {},
   "outputs": [],
   "source": [
    "unq_targets = df.loc[:, [\"category\", \"target\"]].drop_duplicates()\n",
    "chosen_targets = []\n",
    "first_n_categories = 4 # Set the number of unique categories we want to keep\n",
    "\n",
    "unq_targets = unq_targets[0:first_n_categories]\n",
    "\n",
    "for i in unq_targets.category.unique():\n",
    "    choice = unq_targets[unq_targets.category == i].iloc[[0]].target.iloc[0]\n",
    "    chosen_targets.append(choice)"
   ]
  },
  {
   "cell_type": "code",
   "execution_count": null,
   "id": "a1567695-8ddd-42a6-acc4-a6a9b6c0421c",
   "metadata": {},
   "outputs": [],
   "source": [
    "df = df.loc[df.target.isin(chosen_targets),].reset_index(drop = True)\n",
    "df"
   ]
  },
  {
   "cell_type": "code",
   "execution_count": null,
   "id": "232953fc-c5c5-4b2a-a7d4-d1e80cb8beb9",
   "metadata": {},
   "outputs": [],
   "source": [
    "docs_subset = df.text.values.tolist()"
   ]
  },
  {
   "cell_type": "markdown",
   "id": "b94b50c8-f461-43a1-8e30-e0f528605751",
   "metadata": {},
   "source": [
    "Set up model - takes ~15 mins to run on CPU"
   ]
  },
  {
   "cell_type": "code",
   "execution_count": null,
   "id": "b795b9fe-2858-4429-a9ba-372d8b23eff7",
   "metadata": {
    "tags": []
   },
   "outputs": [],
   "source": [
    "#topic_model_small = BERTopic(umap_model=umap_model, nr_topics = 20, verbose = True) # Set number of topics to 20\n",
    "#topics, probs = topic_model_small.fit_transform(docs_subset)"
   ]
  },
  {
   "cell_type": "code",
   "execution_count": null,
   "id": "ced7250d-b038-4c68-983c-7dc3a2aa91c5",
   "metadata": {},
   "outputs": [],
   "source": [
    "# Save model\n",
    "#topic_model_small.save(\"models/my_model_small\")"
   ]
  },
  {
   "cell_type": "code",
   "execution_count": null,
   "id": "ff154243-6aa9-4a34-bf3c-3871510f94bb",
   "metadata": {
    "tags": []
   },
   "outputs": [],
   "source": [
    "# Load model\n",
    "topic_model_small = BERTopic.load(\"models/my_model_small\")"
   ]
  },
  {
   "cell_type": "markdown",
   "id": "c445ec5e-d9a7-4545-bdb6-fddc517882b5",
   "metadata": {},
   "source": [
    "After generating topics, we can access the frequent topics that were generated:"
   ]
  },
  {
   "cell_type": "code",
   "execution_count": null,
   "id": "68a1772e-47b9-4b01-a765-6800b94b1419",
   "metadata": {},
   "outputs": [],
   "source": [
    "topic_model_small.get_topic_info().head()"
   ]
  },
  {
   "cell_type": "code",
   "execution_count": null,
   "id": "ebc3083c-f36b-4b7d-9ed7-d7fb8cab0a79",
   "metadata": {},
   "outputs": [],
   "source": [
    "topic_model_small.get_topic(0)"
   ]
  },
  {
   "cell_type": "code",
   "execution_count": null,
   "id": "c58d28ce-c105-4a2b-88d2-5462b877c820",
   "metadata": {},
   "outputs": [],
   "source": [
    "fig2 = topic_model_small.visualize_topics()\n",
    "fig2.write_html(\"./viz/topic_model_small.html\")"
   ]
  },
  {
   "cell_type": "code",
   "execution_count": null,
   "id": "18b6bcd9-537f-47ef-9fd7-b6251a7eb211",
   "metadata": {},
   "outputs": [],
   "source": [
    "fig2_hier = topic_model_small.visualize_hierarchy()\n",
    "fig2_hier.write_html(\"./viz/topic_model_small_hier.html\")"
   ]
  },
  {
   "cell_type": "markdown",
   "id": "2c0c127f-4916-4776-8dbb-cd716048322b",
   "metadata": {},
   "source": [
    "-----"
   ]
  },
  {
   "cell_type": "markdown",
   "id": "e46e3763-5895-4dfc-85b0-9b545be52579",
   "metadata": {},
   "source": [
    "**Test: Reduce the number of topics**\n",
    "\n",
    "We can control the number of topics either through specifying the number of topics initially in BERTopic(), or afterwards using:`.reduce_topics()`"
   ]
  },
  {
   "cell_type": "code",
   "execution_count": null,
   "id": "56c4bc42-46ae-4989-8975-ad61d81b4006",
   "metadata": {},
   "outputs": [],
   "source": [
    "topic_model_small.reduce_topics(docs_subset, nr_topics=10)"
   ]
  },
  {
   "cell_type": "code",
   "execution_count": null,
   "id": "2dbfc50b-b0a8-453d-a8f3-a5f90135e01e",
   "metadata": {},
   "outputs": [],
   "source": [
    "topic_model_small.get_topic_info().head()"
   ]
  },
  {
   "cell_type": "code",
   "execution_count": null,
   "id": "6ec60006-3572-40b1-b6be-994c15e6dd5c",
   "metadata": {},
   "outputs": [],
   "source": [
    "fig3 = topic_model_small.visualize_topics()\n",
    "fig3.write_html(\"./viz/topic_model_small_reduced.html\")"
   ]
  },
  {
   "cell_type": "markdown",
   "id": "4ed6e8ac-d1b7-4cbe-b42a-e95c850070b6",
   "metadata": {},
   "source": [
    "This reduction doesn't look like it works particualrly well. We'll abandon this approach."
   ]
  },
  {
   "cell_type": "markdown",
   "id": "4ef60903-c8da-4523-837e-7d07b9b0789a",
   "metadata": {},
   "source": [
    "--------"
   ]
  },
  {
   "cell_type": "markdown",
   "id": "9721a080-6a8c-4cc3-ae00-6ad2dc36b2ab",
   "metadata": {},
   "source": [
    "**Subsetted data by category: Compare actual topic to predicted topic**"
   ]
  },
  {
   "cell_type": "code",
   "execution_count": null,
   "id": "6f0e2f9b-4494-4e5b-ba5d-733c9eaeb9da",
   "metadata": {},
   "outputs": [],
   "source": [
    "# Load previous model\n",
    "topic_model_small = BERTopic.load(\"models/my_model_small\")"
   ]
  },
  {
   "cell_type": "code",
   "execution_count": null,
   "id": "c6fac10e-7e45-42ab-88c6-0129c3bcee52",
   "metadata": {},
   "outputs": [],
   "source": [
    "topic_predictions = topic_model_small.get_document_info(docs_subset)\n",
    "topic_predictions"
   ]
  },
  {
   "cell_type": "code",
   "execution_count": null,
   "id": "152b9d53-abd3-40f6-9015-1b5ef7c880ed",
   "metadata": {
    "tags": []
   },
   "outputs": [],
   "source": [
    "# Attach predicted topics onto original dataset\n",
    "df_subset = df.loc[df.text.isin(docs_subset)]\n",
    "\n",
    "df_pred_exp = df_subset.copy()\n",
    "df_pred_exp[\"predicted_topic\"] = topic_predictions[\"Topic\"]\n",
    "df_pred_exp[\"predicted_topic_prob\"] = topic_predictions[\"Probability\"]\n",
    "\n",
    "df_pred_exp"
   ]
  },
  {
   "cell_type": "markdown",
   "id": "9dd9f263-0971-40e3-bc7b-f8e31b7a5ff4",
   "metadata": {},
   "source": [
    "**Compare actual categories to predicted topics:**"
   ]
  },
  {
   "cell_type": "code",
   "execution_count": null,
   "id": "57bff50b-cacd-4ebc-afc6-b2608dcb94ee",
   "metadata": {},
   "outputs": [],
   "source": [
    "import pandas as pd\n",
    "import numpy as np\n",
    "import matplotlib.pyplot as plt\n",
    "import seaborn as sns"
   ]
  },
  {
   "cell_type": "code",
   "execution_count": null,
   "id": "92638ca8-7799-4403-b855-3ece417cddf1",
   "metadata": {},
   "outputs": [],
   "source": [
    "conf_matrix = pd.crosstab(df_pred_exp['target'], df_pred_exp['predicted_topic'], rownames=['Actual'], colnames=['Predicted'])\n",
    "print (conf_matrix)"
   ]
  },
  {
   "cell_type": "code",
   "execution_count": null,
   "id": "41ed3be4-ae17-436c-97f5-25bf4ea8ebc3",
   "metadata": {
    "tags": []
   },
   "outputs": [],
   "source": [
    "#Plot confusion matrix heatmap\n",
    "plt.figure(figsize=(10, 10))\n",
    "sns.set(font_scale=1.5)\n",
    "\n",
    "sns.heatmap(conf_matrix,\n",
    "            cmap='coolwarm',\n",
    "            annot=True,\n",
    "            fmt='.5g',\n",
    "            vmax=200)\n",
    "\n",
    "plt.xlabel('Predicted',fontsize=22)\n",
    "plt.ylabel('Actual',fontsize=22)"
   ]
  },
  {
   "cell_type": "markdown",
   "id": "4d968b63-c55b-4e10-a465-138fc65549eb",
   "metadata": {},
   "source": [
    "--------"
   ]
  },
  {
   "cell_type": "markdown",
   "id": "5241ac43-3c8f-45a0-b158-7c790d8fb74c",
   "metadata": {},
   "source": [
    "**Manually merge topics**\n",
    "\n",
    "According to labelled data"
   ]
  },
  {
   "cell_type": "code",
   "execution_count": null,
   "id": "a799b118-3eb7-4071-9e44-69fe9aea03be",
   "metadata": {
    "tags": []
   },
   "outputs": [],
   "source": [
    "topic_sets = [[1, 3], [0, 12], [2, 4, 5, 6, 8, 9, 13, 14, 15, 16, 17, 18]]\n",
    "topic_model_small.merge_topics(docs = docs_subset, topics_to_merge = topic_sets)"
   ]
  },
  {
   "cell_type": "code",
   "execution_count": null,
   "id": "8d343ef2-3757-47a7-8f7f-50af74b950cf",
   "metadata": {},
   "outputs": [],
   "source": [
    "topic_model_small.get_topic_info()"
   ]
  },
  {
   "cell_type": "markdown",
   "id": "b4420b66-5d22-4e94-916e-dd4abc388669",
   "metadata": {},
   "source": [
    "**Check what results look like**"
   ]
  },
  {
   "cell_type": "code",
   "execution_count": null,
   "id": "1066d1a9-293c-402d-858b-b16e638fe24b",
   "metadata": {},
   "outputs": [],
   "source": [
    "topic_predictions = topic_model_small.get_document_info(docs_subset)\n",
    "topic_predictions"
   ]
  },
  {
   "cell_type": "code",
   "execution_count": null,
   "id": "754b7617-42cf-4252-b1ff-d8be106d729c",
   "metadata": {
    "tags": []
   },
   "outputs": [],
   "source": [
    "# Attach predicted topics onto original dataset\n",
    "df_subset = df.loc[df.text.isin(docs_subset)]\n",
    "\n",
    "df_pred_exp = df_subset.copy()\n",
    "df_pred_exp[\"predicted_topic\"] = topic_predictions[\"Topic\"]\n",
    "df_pred_exp[\"predicted_topic_prob\"] = topic_predictions[\"Probability\"]\n",
    "\n",
    "df_pred_exp"
   ]
  },
  {
   "cell_type": "markdown",
   "id": "3b96088a-8cae-4e0a-af92-6a0cd089784b",
   "metadata": {},
   "source": [
    "**Compare actual categories to predicted topics:**"
   ]
  },
  {
   "cell_type": "code",
   "execution_count": null,
   "id": "934ef114-bc6f-48bb-98bd-996030ce41b8",
   "metadata": {},
   "outputs": [],
   "source": [
    "conf_matrix = pd.crosstab(df_pred_exp['target'], df_pred_exp['predicted_topic'], rownames=['Actual'], colnames=['Predicted'])\n",
    "print (conf_matrix)"
   ]
  },
  {
   "cell_type": "code",
   "execution_count": null,
   "id": "bdf45cca-25ed-4b79-b837-8f6f382319b2",
   "metadata": {
    "tags": []
   },
   "outputs": [],
   "source": [
    "#Plot confusion matrix heatmap\n",
    "plt.figure(figsize=(10, 10))\n",
    "sns.set(font_scale=1.5)\n",
    "\n",
    "sns.heatmap(conf_matrix,\n",
    "            cmap='coolwarm',\n",
    "            annot=True,\n",
    "            fmt='.5g',\n",
    "            vmax=200)\n",
    "\n",
    "plt.xlabel('Predicted',fontsize=22)\n",
    "plt.ylabel('Actual',fontsize=22)"
   ]
  },
  {
   "cell_type": "markdown",
   "id": "90af092b-f89d-4c2d-b5fa-5cec6bfbba8c",
   "metadata": {},
   "source": [
    "Look at topics:"
   ]
  },
  {
   "cell_type": "code",
   "execution_count": null,
   "id": "60f5b812-3110-4290-aa3f-83fdbdb1da64",
   "metadata": {},
   "outputs": [],
   "source": [
    "topic_model_small.get_topic(2)"
   ]
  },
  {
   "cell_type": "code",
   "execution_count": null,
   "id": "cddb280d-1623-4cb2-8489-fca1fabefa02",
   "metadata": {},
   "outputs": [],
   "source": [
    "topic_model_small.get_topic(0)"
   ]
  },
  {
   "cell_type": "code",
   "execution_count": null,
   "id": "936b8982-f981-46d6-829f-9255e7d8162e",
   "metadata": {},
   "outputs": [],
   "source": [
    "topic_model_small.get_topic(1)"
   ]
  },
  {
   "cell_type": "markdown",
   "id": "c7a72a5f-c523-45e0-bb07-41b8241dae8b",
   "metadata": {},
   "source": [
    "--------"
   ]
  },
  {
   "cell_type": "markdown",
   "id": "f886be67-e4ac-43cb-86b2-fa7f9a7d28d4",
   "metadata": {},
   "source": [
    "**Manually merge topics**\n",
    "\n",
    "Based on topic hierarchy"
   ]
  },
  {
   "cell_type": "code",
   "execution_count": null,
   "id": "221fd122-a7de-4ad9-84a9-8d91f1a188ca",
   "metadata": {},
   "outputs": [],
   "source": [
    "# Load previous model\n",
    "topic_model_small2 = BERTopic.load(\"models/my_model_small\")"
   ]
  },
  {
   "cell_type": "code",
   "execution_count": null,
   "id": "2caa61b7-1a81-4b30-b2e9-47396e246a6d",
   "metadata": {
    "tags": []
   },
   "outputs": [],
   "source": [
    "topic_sets = [[11,15,16],[3,4,5],[0,2,9,1,7,12]]\n",
    "topic_model_small2.merge_topics(docs = docs_subset, topics_to_merge = topic_sets)"
   ]
  },
  {
   "cell_type": "code",
   "execution_count": null,
   "id": "0aa5cfed-d116-4fa2-a39c-4b16fe1ceed8",
   "metadata": {},
   "outputs": [],
   "source": [
    "topic_model_small2.get_topic_info()"
   ]
  },
  {
   "cell_type": "markdown",
   "id": "d27222d7-6f3b-45ff-9841-8bd0cd37590b",
   "metadata": {},
   "source": [
    "**Check what results look like**"
   ]
  },
  {
   "cell_type": "code",
   "execution_count": null,
   "id": "a5eaa436-27aa-4ec4-a07c-42128a63db35",
   "metadata": {},
   "outputs": [],
   "source": [
    "topic_predictions = topic_model_small2.get_document_info(docs_subset)\n",
    "topic_predictions"
   ]
  },
  {
   "cell_type": "code",
   "execution_count": null,
   "id": "c00f8e89-8e76-41b4-9ab1-893315c1b580",
   "metadata": {
    "tags": []
   },
   "outputs": [],
   "source": [
    "# Attach predicted topics onto original dataset\n",
    "df_subset = df.loc[df.text.isin(docs_subset)]\n",
    "\n",
    "df_pred_exp = df_subset.copy()\n",
    "df_pred_exp[\"predicted_topic\"] = topic_predictions[\"Topic\"]\n",
    "df_pred_exp[\"predicted_topic_prob\"] = topic_predictions[\"Probability\"]\n",
    "\n",
    "df_pred_exp"
   ]
  },
  {
   "cell_type": "markdown",
   "id": "c175c79e-fe66-4942-896f-16aec1970717",
   "metadata": {},
   "source": [
    "**Compare actual categories to predicted topics:**"
   ]
  },
  {
   "cell_type": "code",
   "execution_count": null,
   "id": "9a366b59-5eb4-474d-b099-0612f4aeadc3",
   "metadata": {},
   "outputs": [],
   "source": [
    "conf_matrix = pd.crosstab(df_pred_exp['target'], df_pred_exp['predicted_topic'], rownames=['Actual'], colnames=['Predicted'])\n",
    "print (conf_matrix)"
   ]
  },
  {
   "cell_type": "code",
   "execution_count": null,
   "id": "9cb7dc8d-fd10-4237-9af7-e3c83f34d18c",
   "metadata": {
    "tags": []
   },
   "outputs": [],
   "source": [
    "#Plot confusion matrix heatmap\n",
    "plt.figure(figsize=(10, 10))\n",
    "sns.set(font_scale=1.5)\n",
    "\n",
    "sns.heatmap(conf_matrix,\n",
    "            cmap='coolwarm',\n",
    "            annot=True,\n",
    "            fmt='.5g',\n",
    "            vmax=200)\n",
    "\n",
    "plt.xlabel('Predicted',fontsize=22)\n",
    "plt.ylabel('Actual',fontsize=22)"
   ]
  },
  {
   "cell_type": "markdown",
   "id": "d8b3819d-7a6c-4c60-af29-9c698e1d9fde",
   "metadata": {},
   "source": [
    "This doesn't give the results expected."
   ]
  },
  {
   "cell_type": "code",
   "execution_count": null,
   "id": "612870b9-194f-4e0e-95f6-8e9bd43cb50b",
   "metadata": {},
   "outputs": [],
   "source": []
  }
 ],
 "metadata": {
  "kernelspec": {
   "display_name": "nlp-code-examples-venv",
   "language": "python",
   "name": "nlp-code-examples-venv"
  },
  "language_info": {
   "codemirror_mode": {
    "name": "ipython",
    "version": 3
   },
   "file_extension": ".py",
   "mimetype": "text/x-python",
   "name": "python",
   "nbconvert_exporter": "python",
   "pygments_lexer": "ipython3",
   "version": "3.9.4"
  }
 },
 "nbformat": 4,
 "nbformat_minor": 5
}
