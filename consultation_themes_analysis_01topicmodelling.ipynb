{
 "cells": [
  {
   "cell_type": "markdown",
   "id": "ed015bfe-bbdc-498b-ae3e-a47ccad17155",
   "metadata": {},
   "source": [
    "# Themes Analysis for Consultation Sandbox\n",
    "## Topic Modelling\n",
    "\n",
    "This notebook is a test of extraction of key themes from dummy consultation data.\n",
    "Inspired by: https://datasciencecampus.ons.gov.uk/projects/automating-consultation-analysis/"
   ]
  },
  {
   "cell_type": "markdown",
   "id": "80c22719-d423-479b-8f13-fb80672bc8fd",
   "metadata": {},
   "source": [
    "---\n",
    "---\n",
    "## Technique A: Topic Modelling\n",
    "Upshot: too few responses to give valuable topics.\n",
    "### 1. Prepare data"
   ]
  },
  {
   "cell_type": "code",
   "execution_count": null,
   "id": "fee830cb-f5e3-4964-90b2-5243b51bbcd6",
   "metadata": {},
   "outputs": [],
   "source": [
    "from arrow_pd_parser import reader\n",
    "import os"
   ]
  },
  {
   "cell_type": "code",
   "execution_count": null,
   "id": "803dadfb-f7f3-4c7c-a330-686242f83dad",
   "metadata": {},
   "outputs": [],
   "source": [
    "s3_bucket = \"s3://alpha-everyone/nlp-code-examples/\"\n",
    "file_loc = \"Consultation_Dummy_NewQuestions.csv\""
   ]
  },
  {
   "cell_type": "code",
   "execution_count": null,
   "id": "6ce1b4ae-85f3-4095-ba34-a65248979372",
   "metadata": {},
   "outputs": [],
   "source": [
    "df = reader.read(os.path.join(s3_bucket, file_loc))"
   ]
  },
  {
   "cell_type": "markdown",
   "id": "b745623a-7fbe-4125-9b8c-88c73e840d18",
   "metadata": {},
   "source": [
    "Clean column names"
   ]
  },
  {
   "cell_type": "code",
   "execution_count": null,
   "id": "94ce79d0-78b7-46dd-8987-d4420051c07c",
   "metadata": {},
   "outputs": [],
   "source": [
    "import re \n",
    "\n",
    "def multiple_replace(replacements, text):\n",
    "    # Create a regular expression from the dictionary keys\n",
    "    regex = re.compile(\"(%s)\" % \"|\".join(map(re.escape, replacements.keys())))\n",
    "    # For each match, look-up corresponding value in dictionary\n",
    "    return regex.sub(lambda mo: replacements[mo.group()], text) "
   ]
  },
  {
   "cell_type": "code",
   "execution_count": null,
   "id": "b9d793a4-635b-4c01-a3c1-0215a5d2c8e2",
   "metadata": {},
   "outputs": [],
   "source": [
    "replacements = {\" \":\"_\",\n",
    "              \"-\":\"_\",\n",
    "              \"/\":\"_\",\n",
    "              \"?\":\"\",\n",
    "              \"'\":\"\"}\n",
    "\n",
    "new_cols = list()\n",
    "for i in df.columns.str.split('- '):\n",
    "    cleaned = multiple_replace(replacements, i[-1]).lower().strip()\n",
    "    new_cols.append(cleaned)\n",
    "df.columns = new_cols"
   ]
  },
  {
   "cell_type": "markdown",
   "id": "21dabb35-c31f-4166-a8eb-ba80f369f496",
   "metadata": {},
   "source": [
    "Look at the column we want to do sentiment analysis on:"
   ]
  },
  {
   "cell_type": "code",
   "execution_count": null,
   "id": "34cbca80-2490-4710-beae-1300bf43748e",
   "metadata": {},
   "outputs": [],
   "source": [
    "df.what_are_the_positives_of_the_pilot_scheme.head().iloc[0]"
   ]
  },
  {
   "cell_type": "code",
   "execution_count": null,
   "id": "88b52a41-a578-438c-afd9-6468ca7fc67a",
   "metadata": {},
   "outputs": [],
   "source": [
    "model_docs = df.what_are_the_positives_of_the_pilot_scheme.tolist()"
   ]
  },
  {
   "cell_type": "markdown",
   "id": "69da3b94-fd03-47da-891e-36f42ee13fed",
   "metadata": {},
   "source": [
    "-----\n",
    "### 2. Set up model\n",
    "Import the libraries needed:"
   ]
  },
  {
   "cell_type": "code",
   "execution_count": null,
   "id": "bf5d2ceb-7555-4418-a671-19f261db2b0d",
   "metadata": {},
   "outputs": [],
   "source": [
    "from bertopic import BERTopic"
   ]
  },
  {
   "cell_type": "code",
   "execution_count": null,
   "id": "d88b7268-5237-47d5-8373-179430045f81",
   "metadata": {},
   "outputs": [],
   "source": [
    "# Set random seed\n",
    "from umap import UMAP\n",
    "umap_model = UMAP(random_state=42)"
   ]
  },
  {
   "cell_type": "code",
   "execution_count": null,
   "id": "84f383d8-8144-48e7-98af-dbdaa8b57a82",
   "metadata": {},
   "outputs": [],
   "source": [
    "topic_model = BERTopic(umap_model=umap_model, \n",
    "                       verbose = True,\n",
    "                       min_topic_size = 5)\n",
    "topics, probs = topic_model.fit_transform(model_docs)"
   ]
  },
  {
   "cell_type": "code",
   "execution_count": null,
   "id": "8b237615-adbd-45a0-8f66-8d24641b579b",
   "metadata": {},
   "outputs": [],
   "source": [
    "# Save model\n",
    "# topic_model.save(\"models/my_model\")"
   ]
  },
  {
   "cell_type": "code",
   "execution_count": null,
   "id": "14a69568-4154-4e78-af4b-48b06d996048",
   "metadata": {
    "tags": []
   },
   "outputs": [],
   "source": [
    "# Load model\n",
    "# topic_model = BERTopic.load(\"models/my_model\")"
   ]
  },
  {
   "cell_type": "markdown",
   "id": "d4d9b8e2-6a98-46b0-9585-b19fad49d5f8",
   "metadata": {},
   "source": [
    "---\n",
    "### 3. Look at results"
   ]
  },
  {
   "cell_type": "markdown",
   "id": "5012ef9f-d291-4a8e-8f5e-1292e14d3687",
   "metadata": {},
   "source": [
    "After generating topics, we can access the frequent topics that were generated:"
   ]
  },
  {
   "cell_type": "code",
   "execution_count": null,
   "id": "72c67609-78dd-4758-a131-6ccdaed9376d",
   "metadata": {},
   "outputs": [],
   "source": [
    "topic_model.get_topic_info()"
   ]
  },
  {
   "cell_type": "markdown",
   "id": "53cb03b2-a0c2-4653-86ab-afea1890ab47",
   "metadata": {},
   "source": [
    "We only have 3 topics generated and they all look quite similar."
   ]
  },
  {
   "cell_type": "code",
   "execution_count": null,
   "id": "79e6bf31-4a58-4f73-ae5c-211371abb2f9",
   "metadata": {},
   "outputs": [],
   "source": [
    "for i in topic_model.get_topic_info().Representation:\n",
    "    print(i)"
   ]
  },
  {
   "cell_type": "code",
   "execution_count": null,
   "id": "d6bde1d8-e141-4332-931d-f79afcac43ca",
   "metadata": {},
   "outputs": [],
   "source": [
    "for i in topic_model.get_topic_info().Representative_Docs:\n",
    "    print(i)"
   ]
  },
  {
   "cell_type": "code",
   "execution_count": null,
   "id": "0e2e3961-ee0f-4730-a91e-b37aa2835f9b",
   "metadata": {},
   "outputs": [],
   "source": []
  }
 ],
 "metadata": {
  "kernelspec": {
   "display_name": "nlp-code-examples-venv",
   "language": "python",
   "name": "nlp-code-examples-venv"
  },
  "language_info": {
   "codemirror_mode": {
    "name": "ipython",
    "version": 3
   },
   "file_extension": ".py",
   "mimetype": "text/x-python",
   "name": "python",
   "nbconvert_exporter": "python",
   "pygments_lexer": "ipython3",
   "version": "3.9.4"
  }
 },
 "nbformat": 4,
 "nbformat_minor": 5
}
