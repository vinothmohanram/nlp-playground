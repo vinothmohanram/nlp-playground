{
 "cells": [
  {
   "cell_type": "markdown",
   "id": "0a57bbc1-0fbb-4b98-be28-118d169db27a",
   "metadata": {},
   "source": [
    "# BART summarisation example\n",
    "\n",
    "This notebook contains an applied example of using BART for text summarisation.\n",
    "\n",
    "BART _should_ act as an abstractive summarizer."
   ]
  },
  {
   "cell_type": "code",
   "execution_count": null,
   "id": "6d9e9d95-138d-4de6-b44d-591c49275de4",
   "metadata": {},
   "outputs": [],
   "source": [
    "from sklearn.datasets import fetch_20newsgroups"
   ]
  },
  {
   "cell_type": "markdown",
   "id": "a7c3595a-7fdb-4782-a7f3-8df9b080ba34",
   "metadata": {},
   "source": [
    "The 20 newsgroups dataset comprises around 18000 newsgroups posts on 20 topics split in two subsets: one for training (or development) and the other one for testing (or for performance evaluation). The split between the train and test set is based upon a messages posted before and after a specific date. More information can be found here: https://scikit-learn.org/0.19/datasets/twenty_newsgroups.html\n",
    "\n",
    "**Fetch data:**"
   ]
  },
  {
   "cell_type": "code",
   "execution_count": null,
   "id": "afadf26d-f551-46f5-8ea5-ba434a30593f",
   "metadata": {},
   "outputs": [],
   "source": [
    "fetch_20newsgroups(subset='all',  remove=('headers', 'footers', 'quotes')).keys()"
   ]
  },
  {
   "cell_type": "code",
   "execution_count": null,
   "id": "cd56f8bf-878c-4380-b15d-62218e2b0a24",
   "metadata": {},
   "outputs": [],
   "source": [
    "fetch_20newsgroups(subset='all',  remove=('headers', 'footers', 'quotes'))['target_names']"
   ]
  },
  {
   "cell_type": "code",
   "execution_count": null,
   "id": "75bb5f47-b1f0-40a2-8af0-b5abe34043ef",
   "metadata": {},
   "outputs": [],
   "source": [
    "docs = fetch_20newsgroups(subset='all',  remove=('headers', 'footers', 'quotes'))['data']"
   ]
  },
  {
   "cell_type": "markdown",
   "id": "ee276da0-514d-442e-87c8-79f922b546bb",
   "metadata": {},
   "source": [
    "**Set up model:**"
   ]
  },
  {
   "cell_type": "code",
   "execution_count": null,
   "id": "a3990c47-5c2f-4a5a-8595-2371d14a13fc",
   "metadata": {},
   "outputs": [],
   "source": [
    "from transformers import pipeline"
   ]
  },
  {
   "cell_type": "code",
   "execution_count": null,
   "id": "45a63054-185e-4468-8415-8f82e06faece",
   "metadata": {},
   "outputs": [],
   "source": [
    "summarizer = pipeline(\"summarization\", model=\"facebook/bart-large-cnn\")"
   ]
  },
  {
   "cell_type": "code",
   "execution_count": null,
   "id": "94cfdf04-89db-4a47-b870-8e4c9ff0bb39",
   "metadata": {},
   "outputs": [],
   "source": [
    "document = docs[0]\n",
    "document"
   ]
  },
  {
   "cell_type": "code",
   "execution_count": null,
   "id": "a6556ec7-e11b-4d52-bf6c-809d7d1b0db2",
   "metadata": {},
   "outputs": [],
   "source": [
    "print(summarizer(document, max_length=130, min_length=30, do_sample=False))"
   ]
  },
  {
   "cell_type": "code",
   "execution_count": null,
   "id": "5fdf9890-e973-4c89-8c2a-08aca9410bd2",
   "metadata": {},
   "outputs": [],
   "source": [
    "docs[1]"
   ]
  },
  {
   "cell_type": "code",
   "execution_count": null,
   "id": "94c2a7b5-d118-435c-93b2-00cd29665091",
   "metadata": {},
   "outputs": [],
   "source": [
    "print(summarizer(docs[1], max_length=30, min_length=10, do_sample=False))"
   ]
  }
 ],
 "metadata": {
  "kernelspec": {
   "display_name": "nlp-code-examples-venv",
   "language": "python",
   "name": "nlp-code-examples-venv"
  },
  "language_info": {
   "codemirror_mode": {
    "name": "ipython",
    "version": 3
   },
   "file_extension": ".py",
   "mimetype": "text/x-python",
   "name": "python",
   "nbconvert_exporter": "python",
   "pygments_lexer": "ipython3",
   "version": "3.9.4"
  }
 },
 "nbformat": 4,
 "nbformat_minor": 5
}
