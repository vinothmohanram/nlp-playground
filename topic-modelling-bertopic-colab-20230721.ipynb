{
 "cells": [
  {
   "cell_type": "markdown",
   "id": "DKNLtHIi1aAl",
   "metadata": {
    "id": "DKNLtHIi1aAl"
   },
   "source": [
    "## Set up colab\n",
    "Set up colab with packages required"
   ]
  },
  {
   "cell_type": "code",
   "execution_count": null,
   "id": "hF3LSk4C1mA0",
   "metadata": {
    "colab": {
     "base_uri": "https://localhost:8080/"
    },
    "executionInfo": {
     "elapsed": 1706,
     "status": "ok",
     "timestamp": 1689953005516,
     "user": {
      "displayName": "Nikki Rayner",
      "userId": "06244047879049804900"
     },
     "user_tz": -60
    },
    "id": "hF3LSk4C1mA0",
    "outputId": "6a925915-ee34-4902-8363-86b0436c62d9"
   },
   "outputs": [],
   "source": [
    "from google.colab import drive\n",
    "drive.mount(\"/content/drive\")"
   ]
  },
  {
   "cell_type": "code",
   "execution_count": null,
   "id": "nXTEh3od10nb",
   "metadata": {
    "executionInfo": {
     "elapsed": 6,
     "status": "ok",
     "timestamp": 1689953005517,
     "user": {
      "displayName": "Nikki Rayner",
      "userId": "06244047879049804900"
     },
     "user_tz": -60
    },
    "id": "nXTEh3od10nb"
   },
   "outputs": [],
   "source": [
    "#!virtualenv /content/drive/MyDrive/NLP_Examples/venv-nlp-code-examples #Only needed when creating venv for the first time"
   ]
  },
  {
   "cell_type": "code",
   "execution_count": null,
   "id": "3L5Zhf373FC-",
   "metadata": {
    "executionInfo": {
     "elapsed": 5,
     "status": "ok",
     "timestamp": 1689953005517,
     "user": {
      "displayName": "Nikki Rayner",
      "userId": "06244047879049804900"
     },
     "user_tz": -60
    },
    "id": "3L5Zhf373FC-"
   },
   "outputs": [],
   "source": [
    "!source /content/drive/MyDrive/NLP_Examples/venv-nlp-code-examples/bin/activate"
   ]
  },
  {
   "cell_type": "markdown",
   "id": "QFRyT4pb4AqB",
   "metadata": {
    "id": "QFRyT4pb4AqB"
   },
   "source": [
    "-----"
   ]
  },
  {
   "cell_type": "markdown",
   "id": "37IW3iou1kSx",
   "metadata": {
    "id": "37IW3iou1kSx"
   },
   "source": [
    "# BERTopic Example"
   ]
  },
  {
   "cell_type": "markdown",
   "id": "8bc71530-df4b-481a-bc7c-5ea578d962a7",
   "metadata": {
    "id": "8bc71530-df4b-481a-bc7c-5ea578d962a7"
   },
   "source": [
    "This notebook contains an applied example of using BERTopic for topic modelling. Code is taken from the [BERTopic site](https://maartengr.github.io/BERTopic/getting_started/quickstart/quickstart.html).\n",
    "\n",
    "Please note, topic models for the full dataset aren't generated here, due to extended runtime due to running on CPU. Therefore, the topics generated aren't very good as they are based only on a small subset of the data.\n",
    "\n",
    "To run the same code in Google colabs on GPU (faster runtime), use [this](https://colab.research.google.com/drive/1FieRA9fLdkQEGDIMYl0I3MCjSUKVF8C-?usp=sharing#scrollTo=SNa-KtKDRnus)."
   ]
  },
  {
   "cell_type": "markdown",
   "id": "98531b5f-bbf5-4eb6-9bb3-235734d91b57",
   "metadata": {
    "id": "98531b5f-bbf5-4eb6-9bb3-235734d91b57"
   },
   "source": [
    "---\n",
    "**Load packages:**"
   ]
  },
  {
   "cell_type": "code",
   "execution_count": null,
   "id": "0452792f-9315-4b0d-a56a-aa206c2ee937",
   "metadata": {
    "executionInfo": {
     "elapsed": 25978,
     "status": "ok",
     "timestamp": 1689953107854,
     "user": {
      "displayName": "Nikki Rayner",
      "userId": "06244047879049804900"
     },
     "user_tz": -60
    },
    "id": "0452792f-9315-4b0d-a56a-aa206c2ee937"
   },
   "outputs": [],
   "source": [
    "from bertopic import BERTopic\n",
    "from sklearn.datasets import fetch_20newsgroups\n",
    "import pandas as pd"
   ]
  },
  {
   "cell_type": "markdown",
   "id": "06642be6-40f3-458f-9f47-e62f0e371687",
   "metadata": {
    "id": "06642be6-40f3-458f-9f47-e62f0e371687"
   },
   "source": [
    "------"
   ]
  },
  {
   "cell_type": "markdown",
   "id": "aa07bb87-35f8-4801-b2bd-ddc31fa5996e",
   "metadata": {
    "id": "aa07bb87-35f8-4801-b2bd-ddc31fa5996e"
   },
   "source": [
    "The 20 newsgroups dataset comprises around 18000 newsgroups posts on 20 topics split in two subsets: one for training (or development) and the other one for testing (or for performance evaluation). The split between the train and test set is based upon a messages posted before and after a specific date. More information can be found here: https://scikit-learn.org/0.19/datasets/twenty_newsgroups.html\n",
    "\n",
    "**Fetch data:**"
   ]
  },
  {
   "cell_type": "code",
   "execution_count": null,
   "id": "88175b32-5a69-4f16-bd56-957fe7684c9b",
   "metadata": {
    "colab": {
     "base_uri": "https://localhost:8080/"
    },
    "executionInfo": {
     "elapsed": 3174,
     "status": "ok",
     "timestamp": 1689953171360,
     "user": {
      "displayName": "Nikki Rayner",
      "userId": "06244047879049804900"
     },
     "user_tz": -60
    },
    "id": "88175b32-5a69-4f16-bd56-957fe7684c9b",
    "outputId": "d704662a-2216-4364-dab9-601742d0e0a2"
   },
   "outputs": [],
   "source": [
    "fetch_20newsgroups(subset='all',  remove=('headers', 'footers', 'quotes')).keys()"
   ]
  },
  {
   "cell_type": "code",
   "execution_count": null,
   "id": "a3b0d1be-45c4-4785-8277-ff0070e0c4a5",
   "metadata": {
    "colab": {
     "base_uri": "https://localhost:8080/"
    },
    "executionInfo": {
     "elapsed": 2030,
     "status": "ok",
     "timestamp": 1689953177357,
     "user": {
      "displayName": "Nikki Rayner",
      "userId": "06244047879049804900"
     },
     "user_tz": -60
    },
    "id": "a3b0d1be-45c4-4785-8277-ff0070e0c4a5",
    "outputId": "bd0a828e-01c2-4f07-f192-b4b2575a2c27"
   },
   "outputs": [],
   "source": [
    "fetch_20newsgroups(subset='all',  remove=('headers', 'footers', 'quotes'))['target_names']"
   ]
  },
  {
   "cell_type": "code",
   "execution_count": null,
   "id": "9voDYAQx__jr",
   "metadata": {
    "executionInfo": {
     "elapsed": 5828,
     "status": "ok",
     "timestamp": 1689953185452,
     "user": {
      "displayName": "Nikki Rayner",
      "userId": "06244047879049804900"
     },
     "user_tz": -60
    },
    "id": "9voDYAQx__jr"
   },
   "outputs": [],
   "source": [
    "# Create a df of the input data with labelled category for use later\n",
    "\n",
    "# Core data\n",
    "newsgroups = fetch_20newsgroups(subset='all',  remove=('headers', 'footers', 'quotes'))\n",
    "df = pd.DataFrame()\n",
    "df['text'] = newsgroups.data\n",
    "df['target'] = newsgroups.target\n",
    "df[\"ref_number\"] = df.index\n",
    "\n",
    "# Category names\n",
    "target_names = fetch_20newsgroups(subset='all',  remove=('headers', 'footers', 'quotes'))['target_names']\n",
    "df_names = pd.DataFrame()\n",
    "df_names[\"target_name\"] = target_names\n",
    "df_names[\"target_num\"] = df_names.index\n",
    "\n",
    "# Attach category name on\n",
    "df_labelled = df.merge(df_names, left_on = \"target\", right_on = \"target_num\").sort_values(\"ref_number\").reset_index(drop = True).drop(columns = \"target_num\")"
   ]
  },
  {
   "cell_type": "code",
   "execution_count": null,
   "id": "ns9pAM3xAHaI",
   "metadata": {
    "colab": {
     "base_uri": "https://localhost:8080/",
     "height": 424
    },
    "executionInfo": {
     "elapsed": 7,
     "status": "ok",
     "timestamp": 1689953210228,
     "user": {
      "displayName": "Nikki Rayner",
      "userId": "06244047879049804900"
     },
     "user_tz": -60
    },
    "id": "ns9pAM3xAHaI",
    "outputId": "0220bb4a-3076-4f65-b5af-87c40f3584f7"
   },
   "outputs": [],
   "source": [
    "df_labelled"
   ]
  },
  {
   "cell_type": "code",
   "execution_count": null,
   "id": "a35724c6-7522-4f26-95fb-7955b5678485",
   "metadata": {
    "executionInfo": {
     "elapsed": 3350,
     "status": "ok",
     "timestamp": 1689953215133,
     "user": {
      "displayName": "Nikki Rayner",
      "userId": "06244047879049804900"
     },
     "user_tz": -60
    },
    "id": "a35724c6-7522-4f26-95fb-7955b5678485"
   },
   "outputs": [],
   "source": [
    "docs = fetch_20newsgroups(subset='all',  remove=('headers', 'footers', 'quotes'))['data']"
   ]
  },
  {
   "cell_type": "code",
   "execution_count": null,
   "id": "7d9f1b35-58e0-441a-bdd9-643420cdeb89",
   "metadata": {
    "colab": {
     "base_uri": "https://localhost:8080/",
     "height": 105
    },
    "executionInfo": {
     "elapsed": 6,
     "status": "ok",
     "timestamp": 1689953215772,
     "user": {
      "displayName": "Nikki Rayner",
      "userId": "06244047879049804900"
     },
     "user_tz": -60
    },
    "id": "7d9f1b35-58e0-441a-bdd9-643420cdeb89",
    "outputId": "9117366f-f264-46f3-8cbe-a1c2f360516f"
   },
   "outputs": [],
   "source": [
    "docs[0]"
   ]
  },
  {
   "cell_type": "code",
   "execution_count": null,
   "id": "48670762-171b-4922-b643-f3cbb794881f",
   "metadata": {
    "colab": {
     "base_uri": "https://localhost:8080/"
    },
    "executionInfo": {
     "elapsed": 337,
     "status": "ok",
     "timestamp": 1689953216932,
     "user": {
      "displayName": "Nikki Rayner",
      "userId": "06244047879049804900"
     },
     "user_tz": -60
    },
    "id": "48670762-171b-4922-b643-f3cbb794881f",
    "outputId": "9bdb2605-cbfa-4dbb-bc4f-9b3c1baef578"
   },
   "outputs": [],
   "source": [
    "docs[0:3]"
   ]
  },
  {
   "cell_type": "code",
   "execution_count": null,
   "id": "f77c90a9-e67f-4a72-893d-1ad2f5536a01",
   "metadata": {
    "colab": {
     "base_uri": "https://localhost:8080/"
    },
    "executionInfo": {
     "elapsed": 5,
     "status": "ok",
     "timestamp": 1689953217274,
     "user": {
      "displayName": "Nikki Rayner",
      "userId": "06244047879049804900"
     },
     "user_tz": -60
    },
    "id": "f77c90a9-e67f-4a72-893d-1ad2f5536a01",
    "outputId": "a2715c3f-510b-4fd8-cb7d-6cd1b462b091"
   },
   "outputs": [],
   "source": [
    "len(docs)"
   ]
  },
  {
   "cell_type": "markdown",
   "id": "a8ce2e66-0468-4d8c-a442-72e614b22dfc",
   "metadata": {
    "id": "a8ce2e66-0468-4d8c-a442-72e614b22dfc"
   },
   "source": [
    "------"
   ]
  },
  {
   "cell_type": "markdown",
   "id": "6eebe7bb-f852-4b16-aa0f-f8ed7a822660",
   "metadata": {
    "id": "6eebe7bb-f852-4b16-aa0f-f8ed7a822660"
   },
   "source": [
    "### 1. Model training: Full dataset, 50 topics\n",
    "\n",
    "**Set up model:**\n",
    "\n",
    "Note - this takes too long to run on AP due to no GPU being available.\n",
    "\n",
    "On AP:\n",
    "With 100 docs takes about 25s to run.\n",
    "With 500 docs takes about 2m30s to run.\n",
    "\n",
    "On GPU (colab):\n",
    "With 500 docs takes about 25s to run.\n",
    "With 18k docs, approx 2 mins to run.\n",
    "\n",
    "There are 18846 docs in total in dataset. Approx 1h30 for whole thing on CPU."
   ]
  },
  {
   "cell_type": "code",
   "execution_count": null,
   "id": "d23ca34e-5d0e-44d1-a2d3-ed306429e59f",
   "metadata": {
    "executionInfo": {
     "elapsed": 195,
     "status": "ok",
     "timestamp": 1689953231388,
     "user": {
      "displayName": "Nikki Rayner",
      "userId": "06244047879049804900"
     },
     "user_tz": -60
    },
    "id": "d23ca34e-5d0e-44d1-a2d3-ed306429e59f"
   },
   "outputs": [],
   "source": [
    "model_docs = docs"
   ]
  },
  {
   "cell_type": "code",
   "execution_count": null,
   "id": "183fe3a3-010e-40a3-9fe9-7e9de7ddbd5d",
   "metadata": {
    "executionInfo": {
     "elapsed": 2,
     "status": "ok",
     "timestamp": 1689953232010,
     "user": {
      "displayName": "Nikki Rayner",
      "userId": "06244047879049804900"
     },
     "user_tz": -60
    },
    "id": "183fe3a3-010e-40a3-9fe9-7e9de7ddbd5d"
   },
   "outputs": [],
   "source": [
    "# Set random seed\n",
    "from umap import UMAP\n",
    "umap_model = UMAP(random_state=42)"
   ]
  },
  {
   "cell_type": "code",
   "execution_count": null,
   "id": "96f85197-2bad-44fc-a465-805a3a957582",
   "metadata": {
    "colab": {
     "base_uri": "https://localhost:8080/",
     "height": 118,
     "referenced_widgets": [
      "e98ab5603537409581dc49d4d7cdcd6c",
      "581f7b73a2574b06bb9483a3bd52da3c",
      "9b32eb032435433ab2d6c9673c8cbe5a",
      "1284569420364a8e9bf1b1b43f862a44",
      "b24a3c1f4d8849c195ab1fe64c909356",
      "5f4feec6e5c84e348065b423a5d0bf0f",
      "05eddfeeca1a4941b62df9085f63d5bf",
      "7a69b49706a744c583c321cf7e790c35",
      "81d5a7c2939c4a839d8bdf97e6484290",
      "4d8f9c97d4454e13b4cfb97cd8eaca04",
      "9e10471a6c7c476d822637ddbeb08d18"
     ]
    },
    "executionInfo": {
     "elapsed": 113248,
     "status": "ok",
     "timestamp": 1689953425202,
     "user": {
      "displayName": "Nikki Rayner",
      "userId": "06244047879049804900"
     },
     "user_tz": -60
    },
    "id": "96f85197-2bad-44fc-a465-805a3a957582",
    "outputId": "59ce540c-966f-40f0-c559-4243ebf0da46"
   },
   "outputs": [],
   "source": [
    "topic_model = BERTopic(umap_model=umap_model, verbose = True, nr_topics = 50)\n",
    "topics, probabilities = topic_model.fit_transform(docs)"
   ]
  },
  {
   "cell_type": "code",
   "execution_count": null,
   "id": "jm4mp4XL53gW",
   "metadata": {
    "executionInfo": {
     "elapsed": 209,
     "status": "ok",
     "timestamp": 1689953429390,
     "user": {
      "displayName": "Nikki Rayner",
      "userId": "06244047879049804900"
     },
     "user_tz": -60
    },
    "id": "jm4mp4XL53gW"
   },
   "outputs": [],
   "source": [
    "# Save model\n",
    "model_save_name = 'full_bertopic_model'\n",
    "path = F\"/content/drive/MyDrive/NLP_Examples/models/{model_save_name}\""
   ]
  },
  {
   "cell_type": "code",
   "execution_count": null,
   "id": "zYvN9z8m6vYG",
   "metadata": {
    "colab": {
     "base_uri": "https://localhost:8080/"
    },
    "executionInfo": {
     "elapsed": 24243,
     "status": "ok",
     "timestamp": 1689953454490,
     "user": {
      "displayName": "Nikki Rayner",
      "userId": "06244047879049804900"
     },
     "user_tz": -60
    },
    "id": "zYvN9z8m6vYG",
    "outputId": "e6c57ffe-0397-415b-af42-5b86aec0963f"
   },
   "outputs": [],
   "source": [
    "#topic_model.save(path)"
   ]
  },
  {
   "cell_type": "code",
   "execution_count": null,
   "id": "eee9e519-c530-4d89-bb67-a7003623bffb",
   "metadata": {
    "executionInfo": {
     "elapsed": 63322,
     "status": "aborted",
     "timestamp": 1689953066285,
     "user": {
      "displayName": "Nikki Rayner",
      "userId": "06244047879049804900"
     },
     "user_tz": -60
    },
    "id": "eee9e519-c530-4d89-bb67-a7003623bffb"
   },
   "outputs": [],
   "source": [
    "# Load model\n",
    "#topic_model = BERTopic.load(path)"
   ]
  },
  {
   "cell_type": "markdown",
   "id": "98d00711-1e4c-4717-9ba7-a6be36cd7797",
   "metadata": {
    "id": "98d00711-1e4c-4717-9ba7-a6be36cd7797"
   },
   "source": [
    "After generating topics, we can access the frequent topics that were generated:"
   ]
  },
  {
   "cell_type": "code",
   "execution_count": null,
   "id": "ba644353-a803-46c0-bc88-a097adf093cd",
   "metadata": {
    "colab": {
     "base_uri": "https://localhost:8080/",
     "height": 206
    },
    "executionInfo": {
     "elapsed": 212,
     "status": "ok",
     "timestamp": 1689953495855,
     "user": {
      "displayName": "Nikki Rayner",
      "userId": "06244047879049804900"
     },
     "user_tz": -60
    },
    "id": "ba644353-a803-46c0-bc88-a097adf093cd",
    "outputId": "135583ac-febf-454b-ced5-8d6cad85e3b0"
   },
   "outputs": [],
   "source": [
    "topic_info = topic_model.get_topic_info()\n",
    "topic_info.head()"
   ]
  },
  {
   "cell_type": "code",
   "execution_count": null,
   "id": "3c4PUm9IFAiA",
   "metadata": {
    "colab": {
     "base_uri": "https://localhost:8080/",
     "height": 122
    },
    "executionInfo": {
     "elapsed": 319,
     "status": "ok",
     "timestamp": 1689953699956,
     "user": {
      "displayName": "Nikki Rayner",
      "userId": "06244047879049804900"
     },
     "user_tz": -60
    },
    "id": "3c4PUm9IFAiA",
    "outputId": "eef4f6d0-bf1b-4fb3-fd3e-dcd21b2a8f6d"
   },
   "outputs": [],
   "source": [
    "topic_info.iloc[1].Representative_Docs[0]"
   ]
  },
  {
   "cell_type": "code",
   "execution_count": null,
   "id": "9c179652-28ba-477f-9a37-f9c82dbdad6a",
   "metadata": {
    "colab": {
     "base_uri": "https://localhost:8080/"
    },
    "executionInfo": {
     "elapsed": 259,
     "status": "ok",
     "timestamp": 1689953690687,
     "user": {
      "displayName": "Nikki Rayner",
      "userId": "06244047879049804900"
     },
     "user_tz": -60
    },
    "id": "9c179652-28ba-477f-9a37-f9c82dbdad6a",
    "outputId": "e790ce7e-653d-4fcb-bb1e-6ed7d149d3a8"
   },
   "outputs": [],
   "source": [
    "topic_model.get_topic(0)"
   ]
  },
  {
   "cell_type": "code",
   "execution_count": null,
   "id": "f513e2a5-6a33-419d-9b6a-895c5abecccd",
   "metadata": {
    "colab": {
     "base_uri": "https://localhost:8080/",
     "height": 641
    },
    "executionInfo": {
     "elapsed": 317,
     "status": "ok",
     "timestamp": 1689953704545,
     "user": {
      "displayName": "Nikki Rayner",
      "userId": "06244047879049804900"
     },
     "user_tz": -60
    },
    "id": "f513e2a5-6a33-419d-9b6a-895c5abecccd",
    "outputId": "e3a25935-73d4-475b-9e50-4bd6f367218d"
   },
   "outputs": [],
   "source": [
    "topic_model.get_document_info(model_docs)"
   ]
  },
  {
   "cell_type": "code",
   "execution_count": null,
   "id": "0150955e-8670-4723-a509-95a341b48629",
   "metadata": {
    "colab": {
     "base_uri": "https://localhost:8080/",
     "height": 667
    },
    "executionInfo": {
     "elapsed": 5638,
     "status": "ok",
     "timestamp": 1689953719705,
     "user": {
      "displayName": "Nikki Rayner",
      "userId": "06244047879049804900"
     },
     "user_tz": -60
    },
    "id": "0150955e-8670-4723-a509-95a341b48629",
    "outputId": "6e160c8b-8b2b-498c-af6b-72bc66bcab4e",
    "tags": []
   },
   "outputs": [],
   "source": [
    "fig1 = topic_model.visualize_topics()\n",
    "fig1.write_html(\"/content/drive/MyDrive/NLP_Examples/topic_model_viz.html\")\n",
    "fig1"
   ]
  },
  {
   "cell_type": "code",
   "execution_count": null,
   "id": "pI9uNrn18k4h",
   "metadata": {
    "colab": {
     "base_uri": "https://localhost:8080/",
     "height": 952
    },
    "executionInfo": {
     "elapsed": 7,
     "status": "ok",
     "timestamp": 1689953719706,
     "user": {
      "displayName": "Nikki Rayner",
      "userId": "06244047879049804900"
     },
     "user_tz": -60
    },
    "id": "pI9uNrn18k4h",
    "outputId": "2d76cfa9-cb44-4291-e967-97bbf9f0baa8"
   },
   "outputs": [],
   "source": [
    "fig_hier = topic_model.visualize_hierarchy()\n",
    "fig_hier"
   ]
  },
  {
   "cell_type": "markdown",
   "id": "2c0c127f-4916-4776-8dbb-cd716048322b",
   "metadata": {
    "id": "2c0c127f-4916-4776-8dbb-cd716048322b"
   },
   "source": [
    "-----"
   ]
  },
  {
   "cell_type": "markdown",
   "id": "e46e3763-5895-4dfc-85b0-9b545be52579",
   "metadata": {
    "id": "e46e3763-5895-4dfc-85b0-9b545be52579"
   },
   "source": [
    "**Test: Reduce the number of topics**\n",
    "\n",
    "We can control the number of topics either through specifying the number of topics initially in BERTopic(), or afterwards using:`.reduce_topics()`"
   ]
  },
  {
   "cell_type": "code",
   "execution_count": null,
   "id": "56c4bc42-46ae-4989-8975-ad61d81b4006",
   "metadata": {
    "colab": {
     "base_uri": "https://localhost:8080/"
    },
    "executionInfo": {
     "elapsed": 12698,
     "status": "ok",
     "timestamp": 1689953845649,
     "user": {
      "displayName": "Nikki Rayner",
      "userId": "06244047879049804900"
     },
     "user_tz": -60
    },
    "id": "56c4bc42-46ae-4989-8975-ad61d81b4006",
    "outputId": "b894184d-4586-477d-f025-9091c8133596"
   },
   "outputs": [],
   "source": [
    "topic_model.reduce_topics(docs, nr_topics=20)"
   ]
  },
  {
   "cell_type": "code",
   "execution_count": null,
   "id": "2dbfc50b-b0a8-453d-a8f3-a5f90135e01e",
   "metadata": {
    "colab": {
     "base_uri": "https://localhost:8080/",
     "height": 206
    },
    "executionInfo": {
     "elapsed": 9,
     "status": "ok",
     "timestamp": 1689953845650,
     "user": {
      "displayName": "Nikki Rayner",
      "userId": "06244047879049804900"
     },
     "user_tz": -60
    },
    "id": "2dbfc50b-b0a8-453d-a8f3-a5f90135e01e",
    "outputId": "44e870d6-98bb-473e-bd69-07a0852f6874"
   },
   "outputs": [],
   "source": [
    "topic_model.get_topic_info().head()"
   ]
  },
  {
   "cell_type": "code",
   "execution_count": null,
   "id": "6ec60006-3572-40b1-b6be-994c15e6dd5c",
   "metadata": {
    "colab": {
     "base_uri": "https://localhost:8080/",
     "height": 667
    },
    "executionInfo": {
     "elapsed": 2143,
     "status": "ok",
     "timestamp": 1689953847787,
     "user": {
      "displayName": "Nikki Rayner",
      "userId": "06244047879049804900"
     },
     "user_tz": -60
    },
    "id": "6ec60006-3572-40b1-b6be-994c15e6dd5c",
    "outputId": "8fa49f62-6de2-487c-8477-98a632943e7c"
   },
   "outputs": [],
   "source": [
    "topic_model.visualize_topics()"
   ]
  },
  {
   "cell_type": "markdown",
   "id": "4ed6e8ac-d1b7-4cbe-b42a-e95c850070b6",
   "metadata": {
    "id": "4ed6e8ac-d1b7-4cbe-b42a-e95c850070b6"
   },
   "source": [
    "This reduction doesn't look like it works particualrly well. We'll abandon this approach."
   ]
  },
  {
   "cell_type": "markdown",
   "id": "4ef60903-c8da-4523-837e-7d07b9b0789a",
   "metadata": {
    "id": "4ef60903-c8da-4523-837e-7d07b9b0789a"
   },
   "source": [
    "--------"
   ]
  },
  {
   "cell_type": "markdown",
   "id": "9721a080-6a8c-4cc3-ae00-6ad2dc36b2ab",
   "metadata": {
    "id": "9721a080-6a8c-4cc3-ae00-6ad2dc36b2ab"
   },
   "source": [
    "**Compare actual topic to predicted topic**"
   ]
  },
  {
   "cell_type": "code",
   "execution_count": null,
   "id": "6f0e2f9b-4494-4e5b-ba5d-733c9eaeb9da",
   "metadata": {
    "executionInfo": {
     "elapsed": 3327,
     "status": "ok",
     "timestamp": 1689953772585,
     "user": {
      "displayName": "Nikki Rayner",
      "userId": "06244047879049804900"
     },
     "user_tz": -60
    },
    "id": "6f0e2f9b-4494-4e5b-ba5d-733c9eaeb9da"
   },
   "outputs": [],
   "source": [
    "# Load previous (un-reduced) model\n",
    "#topic_model = BERTopic.load(path)"
   ]
  },
  {
   "cell_type": "code",
   "execution_count": null,
   "id": "c6fac10e-7e45-42ab-88c6-0129c3bcee52",
   "metadata": {
    "colab": {
     "base_uri": "https://localhost:8080/",
     "height": 765
    },
    "executionInfo": {
     "elapsed": 35,
     "status": "ok",
     "timestamp": 1689953847787,
     "user": {
      "displayName": "Nikki Rayner",
      "userId": "06244047879049804900"
     },
     "user_tz": -60
    },
    "id": "c6fac10e-7e45-42ab-88c6-0129c3bcee52",
    "outputId": "1cafdb10-12d8-4784-e390-4e63cbe03c85"
   },
   "outputs": [],
   "source": [
    "topic_predictions = topic_model.get_document_info(docs)\n",
    "topic_predictions"
   ]
  },
  {
   "cell_type": "code",
   "execution_count": null,
   "id": "152b9d53-abd3-40f6-9015-1b5ef7c880ed",
   "metadata": {
    "colab": {
     "base_uri": "https://localhost:8080/",
     "height": 424
    },
    "executionInfo": {
     "elapsed": 31,
     "status": "ok",
     "timestamp": 1689953847788,
     "user": {
      "displayName": "Nikki Rayner",
      "userId": "06244047879049804900"
     },
     "user_tz": -60
    },
    "id": "152b9d53-abd3-40f6-9015-1b5ef7c880ed",
    "outputId": "623785bf-f51b-4f6c-b742-629998008c12",
    "tags": []
   },
   "outputs": [],
   "source": [
    "# Attach predicted topics onto original dataset\n",
    "df_pred_exp = df_labelled.copy()\n",
    "df_pred_exp[\"predicted_topic\"] = topic_predictions[\"Topic\"]\n",
    "df_pred_exp[\"predicted_topic_prob\"] = topic_predictions[\"Probability\"]\n",
    "\n",
    "df_pred_exp"
   ]
  },
  {
   "cell_type": "markdown",
   "id": "9dd9f263-0971-40e3-bc7b-f8e31b7a5ff4",
   "metadata": {
    "id": "9dd9f263-0971-40e3-bc7b-f8e31b7a5ff4"
   },
   "source": [
    "**Compare actual categories to predicted topics:**"
   ]
  },
  {
   "cell_type": "code",
   "execution_count": null,
   "id": "57bff50b-cacd-4ebc-afc6-b2608dcb94ee",
   "metadata": {
    "executionInfo": {
     "elapsed": 31,
     "status": "ok",
     "timestamp": 1689953847788,
     "user": {
      "displayName": "Nikki Rayner",
      "userId": "06244047879049804900"
     },
     "user_tz": -60
    },
    "id": "57bff50b-cacd-4ebc-afc6-b2608dcb94ee"
   },
   "outputs": [],
   "source": [
    "import pandas as pd\n",
    "import numpy as np\n",
    "import matplotlib.pyplot as plt\n",
    "import seaborn as sns"
   ]
  },
  {
   "cell_type": "code",
   "execution_count": null,
   "id": "MhHTNEzpHB2o",
   "metadata": {
    "executionInfo": {
     "elapsed": 2,
     "status": "ok",
     "timestamp": 1689954094236,
     "user": {
      "displayName": "Nikki Rayner",
      "userId": "06244047879049804900"
     },
     "user_tz": -60
    },
    "id": "MhHTNEzpHB2o"
   },
   "outputs": [],
   "source": [
    "# Drop uncategorized rows\n",
    "df_pred_exp_clean = df_pred_exp.loc[df_pred_exp.predicted_topic != -1]"
   ]
  },
  {
   "cell_type": "code",
   "execution_count": null,
   "id": "92638ca8-7799-4403-b855-3ece417cddf1",
   "metadata": {
    "colab": {
     "base_uri": "https://localhost:8080/"
    },
    "executionInfo": {
     "elapsed": 7,
     "status": "ok",
     "timestamp": 1689954103439,
     "user": {
      "displayName": "Nikki Rayner",
      "userId": "06244047879049804900"
     },
     "user_tz": -60
    },
    "id": "92638ca8-7799-4403-b855-3ece417cddf1",
    "outputId": "36110218-6b84-4f0a-d3b0-5df4accb14ce"
   },
   "outputs": [],
   "source": [
    "conf_matrix = pd.crosstab(df_pred_exp_clean['target'], df_pred_exp_clean['predicted_topic'], rownames=['Actual'], colnames=['Predicted'])\n",
    "print (conf_matrix)"
   ]
  },
  {
   "cell_type": "code",
   "execution_count": null,
   "id": "41ed3be4-ae17-436c-97f5-25bf4ea8ebc3",
   "metadata": {
    "colab": {
     "base_uri": "https://localhost:8080/",
     "height": 903
    },
    "executionInfo": {
     "elapsed": 2364,
     "status": "ok",
     "timestamp": 1689954113590,
     "user": {
      "displayName": "Nikki Rayner",
      "userId": "06244047879049804900"
     },
     "user_tz": -60
    },
    "id": "41ed3be4-ae17-436c-97f5-25bf4ea8ebc3",
    "outputId": "2d58490a-a7b1-4526-f27b-ed19f0a6090b",
    "tags": []
   },
   "outputs": [],
   "source": [
    "#Plot confusion matrix heatmap\n",
    "plt.figure(figsize=(10, 10))\n",
    "sns.set(font_scale=1.5)\n",
    "\n",
    "sns.heatmap(conf_matrix,\n",
    "            cmap='coolwarm',\n",
    "            annot=True,\n",
    "            fmt='.5g',\n",
    "            vmax=200)\n",
    "\n",
    "plt.xlabel('Predicted',fontsize=22)\n",
    "plt.ylabel('Actual',fontsize=22)"
   ]
  },
  {
   "cell_type": "markdown",
   "id": "4d968b63-c55b-4e10-a465-138fc65549eb",
   "metadata": {
    "id": "4d968b63-c55b-4e10-a465-138fc65549eb"
   },
   "source": [
    "--------"
   ]
  },
  {
   "cell_type": "markdown",
   "id": "5241ac43-3c8f-45a0-b158-7c790d8fb74c",
   "metadata": {
    "id": "5241ac43-3c8f-45a0-b158-7c790d8fb74c"
   },
   "source": [
    "**Manually merge topics**\n",
    "\n",
    "According to labelled data"
   ]
  },
  {
   "cell_type": "code",
   "execution_count": null,
   "id": "a799b118-3eb7-4071-9e44-69fe9aea03be",
   "metadata": {
    "executionInfo": {
     "elapsed": 6936,
     "status": "ok",
     "timestamp": 1689956024529,
     "user": {
      "displayName": "Nikki Rayner",
      "userId": "06244047879049804900"
     },
     "user_tz": -60
    },
    "id": "a799b118-3eb7-4071-9e44-69fe9aea03be",
    "tags": []
   },
   "outputs": [],
   "source": [
    "topic_sets = [[8, 11], [1,7], [1,12]]\n",
    "topic_model_unmerged = topic_model\n",
    "topic_model.merge_topics(docs = docs, topics_to_merge = topic_sets)"
   ]
  },
  {
   "cell_type": "code",
   "execution_count": null,
   "id": "8d343ef2-3757-47a7-8f7f-50af74b950cf",
   "metadata": {
    "colab": {
     "base_uri": "https://localhost:8080/",
     "height": 551
    },
    "executionInfo": {
     "elapsed": 244,
     "status": "ok",
     "timestamp": 1689956025687,
     "user": {
      "displayName": "Nikki Rayner",
      "userId": "06244047879049804900"
     },
     "user_tz": -60
    },
    "id": "8d343ef2-3757-47a7-8f7f-50af74b950cf",
    "outputId": "2f373d15-edae-4723-e59a-c142840957bb"
   },
   "outputs": [],
   "source": [
    "topic_model.get_topic_info()"
   ]
  },
  {
   "cell_type": "markdown",
   "id": "b4420b66-5d22-4e94-916e-dd4abc388669",
   "metadata": {
    "id": "b4420b66-5d22-4e94-916e-dd4abc388669"
   },
   "source": [
    "**Check what results look like**"
   ]
  },
  {
   "cell_type": "code",
   "execution_count": null,
   "id": "1066d1a9-293c-402d-858b-b16e638fe24b",
   "metadata": {
    "colab": {
     "base_uri": "https://localhost:8080/",
     "height": 731
    },
    "executionInfo": {
     "elapsed": 227,
     "status": "ok",
     "timestamp": 1689956030295,
     "user": {
      "displayName": "Nikki Rayner",
      "userId": "06244047879049804900"
     },
     "user_tz": -60
    },
    "id": "1066d1a9-293c-402d-858b-b16e638fe24b",
    "outputId": "ff064197-30a3-4618-f6a1-61514a8bd4b5"
   },
   "outputs": [],
   "source": [
    "topic_predictions = topic_model.get_document_info(docs)\n",
    "topic_predictions"
   ]
  },
  {
   "cell_type": "code",
   "execution_count": null,
   "id": "754b7617-42cf-4252-b1ff-d8be106d729c",
   "metadata": {
    "colab": {
     "base_uri": "https://localhost:8080/",
     "height": 424
    },
    "executionInfo": {
     "elapsed": 301,
     "status": "ok",
     "timestamp": 1689956031430,
     "user": {
      "displayName": "Nikki Rayner",
      "userId": "06244047879049804900"
     },
     "user_tz": -60
    },
    "id": "754b7617-42cf-4252-b1ff-d8be106d729c",
    "outputId": "0c23bd7d-e62d-4fee-cdf5-309fd01c2d39",
    "tags": []
   },
   "outputs": [],
   "source": [
    "# Attach predicted topics onto original dataset\n",
    "df_pred_exp = df_labelled.copy()\n",
    "df_pred_exp[\"predicted_topic\"] = topic_predictions[\"Topic\"]\n",
    "df_pred_exp[\"predicted_topic_prob\"] = topic_predictions[\"Probability\"]\n",
    "\n",
    "df_pred_exp"
   ]
  },
  {
   "cell_type": "markdown",
   "id": "3b96088a-8cae-4e0a-af92-6a0cd089784b",
   "metadata": {
    "id": "3b96088a-8cae-4e0a-af92-6a0cd089784b"
   },
   "source": [
    "**Compare actual categories to predicted topics:**"
   ]
  },
  {
   "cell_type": "code",
   "execution_count": null,
   "id": "934ef114-bc6f-48bb-98bd-996030ce41b8",
   "metadata": {
    "colab": {
     "base_uri": "https://localhost:8080/"
    },
    "executionInfo": {
     "elapsed": 216,
     "status": "ok",
     "timestamp": 1689956033214,
     "user": {
      "displayName": "Nikki Rayner",
      "userId": "06244047879049804900"
     },
     "user_tz": -60
    },
    "id": "934ef114-bc6f-48bb-98bd-996030ce41b8",
    "outputId": "0d827976-fc6a-4542-d274-9ae00db2d325"
   },
   "outputs": [],
   "source": [
    "# Drop uncategorized rows\n",
    "df_pred_exp_clean = df_pred_exp.loc[df_pred_exp.predicted_topic != -1]\n",
    "\n",
    "conf_matrix = pd.crosstab(df_pred_exp_clean['target'], df_pred_exp_clean['predicted_topic'], rownames=['Actual'], colnames=['Predicted'])\n",
    "print (conf_matrix)"
   ]
  },
  {
   "cell_type": "code",
   "execution_count": null,
   "id": "bdf45cca-25ed-4b79-b837-8f6f382319b2",
   "metadata": {
    "colab": {
     "base_uri": "https://localhost:8080/",
     "height": 903
    },
    "executionInfo": {
     "elapsed": 1827,
     "status": "ok",
     "timestamp": 1689956037033,
     "user": {
      "displayName": "Nikki Rayner",
      "userId": "06244047879049804900"
     },
     "user_tz": -60
    },
    "id": "bdf45cca-25ed-4b79-b837-8f6f382319b2",
    "outputId": "2b360c45-f0b9-4f4b-8e81-a5fca885ff5b",
    "tags": []
   },
   "outputs": [],
   "source": [
    "#Plot confusion matrix heatmap\n",
    "plt.figure(figsize=(10, 10))\n",
    "sns.set(font_scale=1.5)\n",
    "\n",
    "sns.heatmap(conf_matrix,\n",
    "            cmap='coolwarm',\n",
    "            annot=True,\n",
    "            fmt='.5g',\n",
    "            vmax=200)\n",
    "\n",
    "plt.xlabel('Predicted',fontsize=22)\n",
    "plt.ylabel('Actual',fontsize=22)"
   ]
  },
  {
   "cell_type": "markdown",
   "id": "90af092b-f89d-4c2d-b5fa-5cec6bfbba8c",
   "metadata": {
    "id": "90af092b-f89d-4c2d-b5fa-5cec6bfbba8c"
   },
   "source": [
    "Look at topics:"
   ]
  },
  {
   "cell_type": "code",
   "execution_count": null,
   "id": "60f5b812-3110-4290-aa3f-83fdbdb1da64",
   "metadata": {
    "executionInfo": {
     "elapsed": 329,
     "status": "ok",
     "timestamp": 1689955651335,
     "user": {
      "displayName": "Nikki Rayner",
      "userId": "06244047879049804900"
     },
     "user_tz": -60
    },
    "id": "60f5b812-3110-4290-aa3f-83fdbdb1da64"
   },
   "outputs": [],
   "source": [
    "topic_info = topic_model.get_topic_info()"
   ]
  },
  {
   "cell_type": "code",
   "execution_count": null,
   "id": "Bq87znxHI3c3",
   "metadata": {
    "executionInfo": {
     "elapsed": 2,
     "status": "ok",
     "timestamp": 1689955792414,
     "user": {
      "displayName": "Nikki Rayner",
      "userId": "06244047879049804900"
     },
     "user_tz": -60
    },
    "id": "Bq87znxHI3c3"
   },
   "outputs": [],
   "source": [
    "chosen_topic = 7"
   ]
  },
  {
   "cell_type": "code",
   "execution_count": null,
   "id": "Ddn50ekKK5oH",
   "metadata": {
    "colab": {
     "base_uri": "https://localhost:8080/",
     "height": 122
    },
    "executionInfo": {
     "elapsed": 7,
     "status": "ok",
     "timestamp": 1689955793238,
     "user": {
      "displayName": "Nikki Rayner",
      "userId": "06244047879049804900"
     },
     "user_tz": -60
    },
    "id": "Ddn50ekKK5oH",
    "outputId": "b4a673dd-3163-4e09-8e6c-dc5e15509bcd"
   },
   "outputs": [],
   "source": [
    "rep_doc = topic_info.loc[topic_info.Topic == chosen_topic, \"Representative_Docs\"].reset_index(drop = True).iloc[0][0]\n",
    "rep_doc"
   ]
  },
  {
   "cell_type": "code",
   "execution_count": null,
   "id": "yfSWMs_SIcVc",
   "metadata": {
    "colab": {
     "base_uri": "https://localhost:8080/"
    },
    "executionInfo": {
     "elapsed": 6,
     "status": "ok",
     "timestamp": 1689955793238,
     "user": {
      "displayName": "Nikki Rayner",
      "userId": "06244047879049804900"
     },
     "user_tz": -60
    },
    "id": "yfSWMs_SIcVc",
    "outputId": "521bf582-903b-4dd1-fb67-231c90e7b66b"
   },
   "outputs": [],
   "source": [
    "df_pred_exp_clean.loc[df_pred_exp_clean.predicted_topic == chosen_topic].target_name.value_counts()"
   ]
  },
  {
   "cell_type": "markdown",
   "id": "c7a72a5f-c523-45e0-bb07-41b8241dae8b",
   "metadata": {
    "id": "c7a72a5f-c523-45e0-bb07-41b8241dae8b"
   },
   "source": [
    "--------"
   ]
  },
  {
   "cell_type": "markdown",
   "id": "f886be67-e4ac-43cb-86b2-fa7f9a7d28d4",
   "metadata": {
    "id": "f886be67-e4ac-43cb-86b2-fa7f9a7d28d4"
   },
   "source": [
    "**Manually merge topics**\n",
    "\n",
    "Based on topic hierarchy"
   ]
  },
  {
   "cell_type": "code",
   "execution_count": null,
   "id": "221fd122-a7de-4ad9-84a9-8d91f1a188ca",
   "metadata": {
    "executionInfo": {
     "elapsed": 2,
     "status": "ok",
     "timestamp": 1689955856618,
     "user": {
      "displayName": "Nikki Rayner",
      "userId": "06244047879049804900"
     },
     "user_tz": -60
    },
    "id": "221fd122-a7de-4ad9-84a9-8d91f1a188ca"
   },
   "outputs": [],
   "source": [
    "# Copy previous model\n",
    "topic_model_merged = topic_model"
   ]
  },
  {
   "cell_type": "code",
   "execution_count": null,
   "id": "2caa61b7-1a81-4b30-b2e9-47396e246a6d",
   "metadata": {
    "executionInfo": {
     "elapsed": 63438,
     "status": "aborted",
     "timestamp": 1689953066507,
     "user": {
      "displayName": "Nikki Rayner",
      "userId": "06244047879049804900"
     },
     "user_tz": -60
    },
    "id": "2caa61b7-1a81-4b30-b2e9-47396e246a6d",
    "tags": []
   },
   "outputs": [],
   "source": [
    "topic_sets = [[10, 3], [8, 15]]\n",
    "topic_model_merged.merge_topics(docs = docs, topics_to_merge = topic_sets)"
   ]
  },
  {
   "cell_type": "code",
   "execution_count": null,
   "id": "0aa5cfed-d116-4fa2-a39c-4b16fe1ceed8",
   "metadata": {
    "executionInfo": {
     "elapsed": 63436,
     "status": "aborted",
     "timestamp": 1689953066507,
     "user": {
      "displayName": "Nikki Rayner",
      "userId": "06244047879049804900"
     },
     "user_tz": -60
    },
    "id": "0aa5cfed-d116-4fa2-a39c-4b16fe1ceed8"
   },
   "outputs": [],
   "source": [
    "topic_model_merged.get_topic_info()"
   ]
  },
  {
   "cell_type": "markdown",
   "id": "d27222d7-6f3b-45ff-9841-8bd0cd37590b",
   "metadata": {
    "id": "d27222d7-6f3b-45ff-9841-8bd0cd37590b"
   },
   "source": [
    "**Check what results look like**"
   ]
  },
  {
   "cell_type": "code",
   "execution_count": null,
   "id": "a5eaa436-27aa-4ec4-a07c-42128a63db35",
   "metadata": {
    "executionInfo": {
     "elapsed": 63435,
     "status": "aborted",
     "timestamp": 1689953066507,
     "user": {
      "displayName": "Nikki Rayner",
      "userId": "06244047879049804900"
     },
     "user_tz": -60
    },
    "id": "a5eaa436-27aa-4ec4-a07c-42128a63db35"
   },
   "outputs": [],
   "source": [
    "topic_predictions = topic_model_small2.get_document_info(docs_subset)\n",
    "topic_predictions"
   ]
  },
  {
   "cell_type": "code",
   "execution_count": null,
   "id": "c00f8e89-8e76-41b4-9ab1-893315c1b580",
   "metadata": {
    "executionInfo": {
     "elapsed": 63434,
     "status": "aborted",
     "timestamp": 1689953066507,
     "user": {
      "displayName": "Nikki Rayner",
      "userId": "06244047879049804900"
     },
     "user_tz": -60
    },
    "id": "c00f8e89-8e76-41b4-9ab1-893315c1b580",
    "tags": []
   },
   "outputs": [],
   "source": [
    "# Attach predicted topics onto original dataset\n",
    "df_subset = df.loc[df.text.isin(docs_subset)]\n",
    "\n",
    "df_pred_exp = df_subset.copy()\n",
    "df_pred_exp[\"predicted_topic\"] = topic_predictions[\"Topic\"]\n",
    "df_pred_exp[\"predicted_topic_prob\"] = topic_predictions[\"Probability\"]\n",
    "\n",
    "df_pred_exp"
   ]
  },
  {
   "cell_type": "markdown",
   "id": "c175c79e-fe66-4942-896f-16aec1970717",
   "metadata": {
    "id": "c175c79e-fe66-4942-896f-16aec1970717"
   },
   "source": [
    "**Compare actual categories to predicted topics:**"
   ]
  },
  {
   "cell_type": "code",
   "execution_count": null,
   "id": "9a366b59-5eb4-474d-b099-0612f4aeadc3",
   "metadata": {
    "executionInfo": {
     "elapsed": 63435,
     "status": "aborted",
     "timestamp": 1689953066508,
     "user": {
      "displayName": "Nikki Rayner",
      "userId": "06244047879049804900"
     },
     "user_tz": -60
    },
    "id": "9a366b59-5eb4-474d-b099-0612f4aeadc3"
   },
   "outputs": [],
   "source": [
    "conf_matrix = pd.crosstab(df_pred_exp['target'], df_pred_exp['predicted_topic'], rownames=['Actual'], colnames=['Predicted'])\n",
    "print (conf_matrix)"
   ]
  },
  {
   "cell_type": "code",
   "execution_count": null,
   "id": "9cb7dc8d-fd10-4237-9af7-e3c83f34d18c",
   "metadata": {
    "executionInfo": {
     "elapsed": 63434,
     "status": "aborted",
     "timestamp": 1689953066508,
     "user": {
      "displayName": "Nikki Rayner",
      "userId": "06244047879049804900"
     },
     "user_tz": -60
    },
    "id": "9cb7dc8d-fd10-4237-9af7-e3c83f34d18c",
    "tags": []
   },
   "outputs": [],
   "source": [
    "#Plot confusion matrix heatmap\n",
    "plt.figure(figsize=(10, 10))\n",
    "sns.set(font_scale=1.5)\n",
    "\n",
    "sns.heatmap(conf_matrix,\n",
    "            cmap='coolwarm',\n",
    "            annot=True,\n",
    "            fmt='.5g',\n",
    "            vmax=200)\n",
    "\n",
    "plt.xlabel('Predicted',fontsize=22)\n",
    "plt.ylabel('Actual',fontsize=22)"
   ]
  },
  {
   "cell_type": "code",
   "execution_count": null,
   "id": "612870b9-194f-4e0e-95f6-8e9bd43cb50b",
   "metadata": {
    "executionInfo": {
     "elapsed": 63433,
     "status": "aborted",
     "timestamp": 1689953066508,
     "user": {
      "displayName": "Nikki Rayner",
      "userId": "06244047879049804900"
     },
     "user_tz": -60
    },
    "id": "612870b9-194f-4e0e-95f6-8e9bd43cb50b"
   },
   "outputs": [],
   "source": []
  }
 ],
 "metadata": {
  "accelerator": "GPU",
  "colab": {
   "gpuType": "T4",
   "provenance": [
    {
     "file_id": "1Q8IR4S8R0tsV5aI-0C_WC29O-p9q4_6R",
     "timestamp": 1689949037287
    }
   ]
  },
  "kernelspec": {
   "display_name": "NLP Code Examples",
   "language": "python",
   "name": "venv_nlp-code-examples"
  },
  "language_info": {
   "codemirror_mode": {
    "name": "ipython",
    "version": 3
   },
   "file_extension": ".py",
   "mimetype": "text/x-python",
   "name": "python",
   "nbconvert_exporter": "python",
   "pygments_lexer": "ipython3",
   "version": "3.9.4"
  }
 },
 "nbformat": 4,
 "nbformat_minor": 5
}
